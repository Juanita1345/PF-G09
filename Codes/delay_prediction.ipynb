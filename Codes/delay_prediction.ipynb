{
 "cells": [
  {
   "cell_type": "code",
   "execution_count": 1,
   "id": "44b06637-1e95-4ff7-acb4-424c54b889d4",
   "metadata": {},
   "outputs": [
    {
     "data": {
      "text/html": [
       "<style type='text/css'>\n",
       ".datatable table.frame { margin-bottom: 0; }\n",
       ".datatable table.frame thead { border-bottom: none; }\n",
       ".datatable table.frame tr.coltypes td {  color: #FFFFFF;  line-height: 6px;  padding: 0 0.5em;}\n",
       ".datatable .bool    { background: #DDDD99; }\n",
       ".datatable .object  { background: #565656; }\n",
       ".datatable .int     { background: #5D9E5D; }\n",
       ".datatable .float   { background: #4040CC; }\n",
       ".datatable .str     { background: #CC4040; }\n",
       ".datatable .time    { background: #40CC40; }\n",
       ".datatable .row_index {  background: var(--jp-border-color3);  border-right: 1px solid var(--jp-border-color0);  color: var(--jp-ui-font-color3);  font-size: 9px;}\n",
       ".datatable .frame tbody td { text-align: left; }\n",
       ".datatable .frame tr.coltypes .row_index {  background: var(--jp-border-color0);}\n",
       ".datatable th:nth-child(2) { padding-left: 12px; }\n",
       ".datatable .hellipsis {  color: var(--jp-cell-editor-border-color);}\n",
       ".datatable .vellipsis {  background: var(--jp-layout-color0);  color: var(--jp-cell-editor-border-color);}\n",
       ".datatable .na {  color: var(--jp-cell-editor-border-color);  font-size: 80%;}\n",
       ".datatable .sp {  opacity: 0.25;}\n",
       ".datatable .footer { font-size: 9px; }\n",
       ".datatable .frame_dimensions {  background: var(--jp-border-color3);  border-top: 1px solid var(--jp-border-color0);  color: var(--jp-ui-font-color3);  display: inline-block;  opacity: 0.6;  padding: 1px 10px 1px 5px;}\n",
       "</style>\n"
      ],
      "text/plain": [
       "<IPython.core.display.HTML object>"
      ]
     },
     "metadata": {},
     "output_type": "display_data"
    }
   ],
   "source": [
    "from datatable import dt, f\n",
    "import matplotlib.pyplot as plt\n",
    "import numpy as np\n",
    "import organizing.data_organize as org\n",
    "import organizing.plotting as pl\n",
    "import linear_model.ransac_model as rm\n",
    "import organizing.cleaningNaN as clean\n",
    "import linear_model.standarderror as stde"
   ]
  },
  {
   "cell_type": "code",
   "execution_count": 2,
   "id": "1eaa5db7-ceff-4e03-b84f-b356b2e57e5b",
   "metadata": {},
   "outputs": [],
   "source": [
    "link = \"../Data/2018_2022_24.csv\"\n",
    "data = org.organize(link, False)"
   ]
  },
  {
   "cell_type": "code",
   "execution_count": 3,
   "id": "36122e07-64ac-4bd8-b107-6cee4d8430d1",
   "metadata": {},
   "outputs": [
    {
     "data": {
      "text/html": [
       "<div class='datatable'>\n",
       "  <table class='frame'>\n",
       "  <thead>\n",
       "    <tr class='colnames'><td class='row_index'></td><th>ORIGIN</th><th>DEST</th><th>DEP_DELAY</th><th>ARR_DELAY</th><th>CRS_ELAPSED_TIME</th><th>DISTANCE</th></tr>\n",
       "    <tr class='coltypes'><td class='row_index'></td><td class='str' title='str32'>&#x25AA;&#x25AA;&#x25AA;&#x25AA;</td><td class='str' title='str32'>&#x25AA;&#x25AA;&#x25AA;&#x25AA;</td><td class='float' title='float64'>&#x25AA;&#x25AA;&#x25AA;&#x25AA;&#x25AA;&#x25AA;&#x25AA;&#x25AA;</td><td class='float' title='float64'>&#x25AA;&#x25AA;&#x25AA;&#x25AA;&#x25AA;&#x25AA;&#x25AA;&#x25AA;</td><td class='float' title='float64'>&#x25AA;&#x25AA;&#x25AA;&#x25AA;&#x25AA;&#x25AA;&#x25AA;&#x25AA;</td><td class='float' title='float64'>&#x25AA;&#x25AA;&#x25AA;&#x25AA;&#x25AA;&#x25AA;&#x25AA;&#x25AA;</td></tr>\n",
       "  </thead>\n",
       "  <tbody>\n",
       "    <tr><td class='row_index'>0</td><td>EWR</td><td>ATL</td><td>&minus;5</td><td>&minus;16</td><td>153</td><td>746</td></tr>\n",
       "    <tr><td class='row_index'>1</td><td>SFO</td><td>ATL</td><td>13</td><td>&minus;5</td><td>283</td><td>2139</td></tr>\n",
       "    <tr><td class='row_index'>2</td><td>ORD</td><td>ATL</td><td>&minus;8</td><td>&minus;16</td><td>116</td><td>606</td></tr>\n",
       "    <tr><td class='row_index'>3</td><td>IAH</td><td>ATL</td><td>6</td><td>&minus;7</td><td>120</td><td>689</td></tr>\n",
       "    <tr><td class='row_index'>4</td><td>ATL</td><td>EWR</td><td>8</td><td>&minus;10</td><td>140</td><td>746</td></tr>\n",
       "  </tbody>\n",
       "  </table>\n",
       "  <div class='footer'>\n",
       "    <div class='frame_dimensions'>5 rows &times; 6 columns</div>\n",
       "  </div>\n",
       "</div>\n"
      ],
      "text/plain": [
       "<Frame#7f9db5b229f0 5x6>"
      ]
     },
     "execution_count": 3,
     "metadata": {},
     "output_type": "execute_result"
    }
   ],
   "source": [
    "data.head(5)"
   ]
  },
  {
   "cell_type": "code",
   "execution_count": 4,
   "id": "51929c27-b460-4427-8931-e495d14b9338",
   "metadata": {},
   "outputs": [],
   "source": [
    "# ATL CSG ABY VLD BQK SAV AGS"
   ]
  },
  {
   "cell_type": "code",
   "execution_count": 5,
   "id": "f3eb6751-1d88-43e9-a78c-cf119b5adf11",
   "metadata": {},
   "outputs": [
    {
     "name": "stdout",
     "output_type": "stream",
     "text": [
      "6\n"
     ]
    }
   ],
   "source": [
    "airports_sigla = [\"Atlanta\", \"Columbus\", \"Sur Oeste Regional\",\n",
    "                  \"Valdosta\", \"Brunswick Golden\", \"Savannah/Hilton\",\n",
    "                   \"Regional Augusta\"]\n",
    "code = [\"ATL\", \"CSG\", \"ABY\", \"VLD\", \"BQK\", \"SAV\", \"AGS\"]\n",
    "print(airports_sigla.index(\"Regional Augusta\"))"
   ]
  },
  {
   "cell_type": "code",
   "execution_count": 6,
   "id": "dd510047-b95b-4f54-9640-21ec4a91472c",
   "metadata": {},
   "outputs": [],
   "source": [
    "data_selected = {}"
   ]
  },
  {
   "cell_type": "code",
   "execution_count": 7,
   "id": "4c68c11b-deb3-4b8e-8749-503e728d0a30",
   "metadata": {},
   "outputs": [],
   "source": [
    "data_selected[\"ATL\"] = org.select_specific(data, f.DEST, \"ATL\")"
   ]
  },
  {
   "cell_type": "code",
   "execution_count": 8,
   "id": "c51c14a8-5fde-4838-8c6a-dc0bd91a1359",
   "metadata": {},
   "outputs": [
    {
     "data": {
      "text/plain": [
       "1502012"
      ]
     },
     "execution_count": 8,
     "metadata": {},
     "output_type": "execute_result"
    }
   ],
   "source": [
    "data_selected[\"ATL\"].shape[0]"
   ]
  },
  {
   "cell_type": "code",
   "execution_count": 9,
   "id": "8f34ee88-e077-4763-95d4-4bd8644b21ed",
   "metadata": {},
   "outputs": [],
   "source": [
    "data_selected[\"CSG\"] = org.select_specific(data, f.DEST, \"CSG\")"
   ]
  },
  {
   "cell_type": "code",
   "execution_count": 10,
   "id": "7b7c992e-ae98-4a84-bbf5-1269d076d647",
   "metadata": {},
   "outputs": [
    {
     "data": {
      "text/plain": [
       "5343"
      ]
     },
     "execution_count": 10,
     "metadata": {},
     "output_type": "execute_result"
    }
   ],
   "source": [
    "data_selected[\"CSG\"].shape[0]"
   ]
  },
  {
   "cell_type": "code",
   "execution_count": 11,
   "id": "e6edd6c5-941c-4473-8b33-26c11e56eb33",
   "metadata": {},
   "outputs": [],
   "source": [
    "data_selected[\"ABY\"] = org.select_specific(data, f.DEST, \"ABY\")"
   ]
  },
  {
   "cell_type": "code",
   "execution_count": 12,
   "id": "4622ad7d-4ecc-4e47-b366-0dcedc538a60",
   "metadata": {},
   "outputs": [
    {
     "data": {
      "text/plain": [
       "3884"
      ]
     },
     "execution_count": 12,
     "metadata": {},
     "output_type": "execute_result"
    }
   ],
   "source": [
    "data_selected[\"ABY\"].shape[0]"
   ]
  },
  {
   "cell_type": "code",
   "execution_count": 13,
   "id": "9c5649d4-c064-4ee5-915a-c8cc003de233",
   "metadata": {},
   "outputs": [],
   "source": [
    "data_selected[\"BQK\"] = org.select_specific(data, f.DEST, \"BQK\")"
   ]
  },
  {
   "cell_type": "code",
   "execution_count": 14,
   "id": "4bc3d7b6-7101-4d09-8e53-b5c7a34043ea",
   "metadata": {},
   "outputs": [
    {
     "data": {
      "text/plain": [
       "3927"
      ]
     },
     "execution_count": 14,
     "metadata": {},
     "output_type": "execute_result"
    }
   ],
   "source": [
    "data_selected[\"BQK\"].shape[0]"
   ]
  },
  {
   "cell_type": "code",
   "execution_count": 15,
   "id": "0101ad3e-eb0c-483a-9891-5c0ed76b9cd6",
   "metadata": {},
   "outputs": [],
   "source": [
    "data_selected[\"VLD\"] = org.select_specific(data, f.DEST, \"VLD\")"
   ]
  },
  {
   "cell_type": "code",
   "execution_count": 16,
   "id": "afe2f787-1810-456e-8f74-86ec0d65caa3",
   "metadata": {},
   "outputs": [
    {
     "data": {
      "text/plain": [
       "4156"
      ]
     },
     "execution_count": 16,
     "metadata": {},
     "output_type": "execute_result"
    }
   ],
   "source": [
    "data_selected[\"VLD\"].shape[0]"
   ]
  },
  {
   "cell_type": "code",
   "execution_count": 17,
   "id": "0563c985-769b-492d-8545-2f58620c9827",
   "metadata": {},
   "outputs": [],
   "source": [
    "data_selected[\"SAV\"] = org.select_specific(data, f.DEST, \"SAV\")"
   ]
  },
  {
   "cell_type": "code",
   "execution_count": 18,
   "id": "af4022e4-5cce-4b16-9907-5d6c98db4f77",
   "metadata": {},
   "outputs": [
    {
     "data": {
      "text/plain": [
       "69271"
      ]
     },
     "execution_count": 18,
     "metadata": {},
     "output_type": "execute_result"
    }
   ],
   "source": [
    "data_selected[\"SAV\"].shape[0]"
   ]
  },
  {
   "cell_type": "code",
   "execution_count": 19,
   "id": "35862054-5ca0-4859-a267-7a61a5faa4aa",
   "metadata": {},
   "outputs": [],
   "source": [
    "data_selected[\"AGS\"] = org.select_specific(data, f.DEST, \"AGS\")"
   ]
  },
  {
   "cell_type": "code",
   "execution_count": 20,
   "id": "d0d21fda-ece0-4552-ae8c-3e88e66f1573",
   "metadata": {},
   "outputs": [
    {
     "data": {
      "text/plain": [
       "16552"
      ]
     },
     "execution_count": 20,
     "metadata": {},
     "output_type": "execute_result"
    }
   ],
   "source": [
    "data_selected[\"AGS\"].shape[0]"
   ]
  },
  {
   "cell_type": "code",
   "execution_count": 21,
   "id": "cdd92d06-826b-459d-be95-3250358560ff",
   "metadata": {},
   "outputs": [
    {
     "data": {
      "text/plain": [
       "dict_keys(['ATL', 'CSG', 'ABY', 'BQK', 'VLD', 'SAV', 'AGS'])"
      ]
     },
     "execution_count": 21,
     "metadata": {},
     "output_type": "execute_result"
    }
   ],
   "source": [
    "data_selected.keys()"
   ]
  },
  {
   "cell_type": "code",
   "execution_count": 22,
   "id": "ce5c366b-9c78-4761-b1a1-ea053bf90ce4",
   "metadata": {},
   "outputs": [
    {
     "name": "stdout",
     "output_type": "stream",
     "text": [
      "Score =  0.9153509493804675\n",
      "m = 1.023808244670712 +- 0.007529234283526528\n",
      "b= -10.737518104374157 +- 0.32380726019905526\n"
     ]
    }
   ],
   "source": [
    "X_ATL, Y_ATL = clean.clean(data_selected[\"ATL\"][\"DEP_DELAY\"].to_list(), data_selected[\"ATL\"][\"ARR_DELAY\"].to_list())\n",
    "model_ATL = rm.model_linear(X_ATL, Y_ATL)\n",
    "print(\"Score = \", model_ATL.score(X_ATL, Y_ATL))\n",
    "berror_ATL, merror_ATL =  stde.standarderror(X_ATL, Y_ATL, model_ATL)\n",
    "m_ATL = model_ATL.estimator_.coef_[0][0]\n",
    "b_ATL = model_ATL.estimator_.intercept_[0]\n",
    "print(\"m =\",m_ATL,\"+-\",merror_ATL)\n",
    "print(\"b=\",b_ATL ,\"+-\", berror_ATL)\n"
   ]
  },
  {
   "cell_type": "code",
   "execution_count": 31,
   "id": "1e215c87-320e-4658-adc6-f19b4c4c0afc",
   "metadata": {},
   "outputs": [
    {
     "data": {
      "text/plain": [
       "array([ -5.,  13.,  -8.,   6.,   2.,  -8., -10.,  -5.,  -2.,  -9.,  -8.,\n",
       "       -12.,  -4.,  -9., -12.,  -1.,  -6.,  -3.,   3.,  -4.,  -8., -10.,\n",
       "        -5.,  46.,  -4.,  -5., -11.,  -5.,  -9.,  -8.,  -3.,   0.,  -3.,\n",
       "        -9.,  -6., -18.,  -6.,  11.,  -7., -25.,  -5.,  -5., -12.,  -9.,\n",
       "        -4., -10.,  -3.,  -8.,  29.,  -5.,  -5.,  -5.,  -8., -10.,  -7.,\n",
       "        -6.,  -7.,  39.,  -6.,  -3.,  -4.,  -9.,   7.,  -4.,  54.,  -5.,\n",
       "        -6.,  16.,  -7.,  -3.,  -7.,  -6.,  -7.,  -9.,  -4.,  -5.,  -9.,\n",
       "        -9.,  -6., -11.,  -3.,  -8.,  10.,  -6., -14.,  -6., -10., -14.,\n",
       "         0.,  -8.,  -9.,  -8., -11., -10.,  -4.,  -3.,  -5.,  -4.,  -6.,\n",
       "       -14.])"
      ]
     },
     "execution_count": 31,
     "metadata": {},
     "output_type": "execute_result"
    }
   ],
   "source": [
    "X_ATL[0:100].transpose()[0]"
   ]
  },
  {
   "cell_type": "code",
   "execution_count": 23,
   "id": "5892a2b5-dbcb-4fcc-923d-e9efdee7d76f",
   "metadata": {},
   "outputs": [],
   "source": [
    "x_line = [np.min(X_ATL), np.max(X_ATL)]\n",
    "y_line = [(m_ATL*x_line[0]) + b_ATL, (m_ATL*x_line[1]) + b_ATL]\n",
    "y_line_min = [((m_ATL-merror_ATL)*x_line[0]) + b_ATL-berror_ATL, ((m_ATL-merror_ATL)*x_line[1]) + b_ATL-merror_ATL]\n",
    "y_line_max = [((m_ATL+merror_ATL)*x_line[0]) + b_ATL+berror_ATL, ((m_ATL+merror_ATL)*x_line[1]) + b_ATL+merror_ATL]"
   ]
  },
  {
   "cell_type": "code",
   "execution_count": 24,
   "id": "12c7cd64-0b25-46f0-93a2-91d993478176",
   "metadata": {},
   "outputs": [
    {
     "name": "stderr",
     "output_type": "stream",
     "text": [
      "\n",
      "KeyboardInterrupt\n",
      "\n"
     ]
    }
   ],
   "source": [
    "plt.plot(x_line,y_line, label=\"media\")\n",
    "plt.plot(x_line,y_line_min, label=\"mínimo intervalo\")\n",
    "plt.plot(x_line,y_line_max, label=\"máximo intervalo\")\n",
    "plt.scatter(X_ATL,Y_ATL)\n",
    "plt.legend()\n",
    "plt.show()"
   ]
  },
  {
   "cell_type": "code",
   "execution_count": null,
   "id": "663b9eaf-c471-423a-945f-906d2eebe254",
   "metadata": {},
   "outputs": [],
   "source": [
    "i = 4\n",
    "retraso= X_ATL[i][0]\n",
    "retraso_salida = Y_ATL[i][0]\n",
    "print(\"el valor de retraso de entrada es\", retraso, \"minutos\")\n",
    "retraso_minimo = ((m_ATL-merror_ATL)*retraso) + b_ATL-berror_ATL\n",
    "retraso_maximo = ((m_ATL+merror_ATL)*retraso) + b_ATL+berror_ATL\n",
    "retraso_medio = ((m_ATL)*retraso) + b_ATL\n",
    "print(\"El intervalo de retraso de salida  está entre \", round(retraso_minimo,1), \"y\", round(retraso_maximo,1) , \"minutos\")\n",
    "print(\"El retraso medio es de\", round(retraso_medio,1))\n",
    "print(\"el valor real de salida es\", retraso_salida)"
   ]
  },
  {
   "cell_type": "code",
   "execution_count": null,
   "id": "1ba6e07f-21e4-4979-8ff2-830eaaac2237",
   "metadata": {},
   "outputs": [],
   "source": [
    "for i in range(100,200):\n",
    "    \n",
    "    print(X_ATL[i][0],i)"
   ]
  },
  {
   "cell_type": "code",
   "execution_count": null,
   "id": "a3e8eb60-cea4-4178-baa2-084da820ab5d",
   "metadata": {},
   "outputs": [],
   "source": [
    "print(\"Score = \", model_ATL.sc ore(X_ATL, Y_ATL))\n",
    "print(\"m =\",model_ATL.estimator_.coef_[0][0])\n",
    "print(\"b=\", model_ATL.estimator_.intercept_[0])"
   ]
  },
  {
   "cell_type": "code",
   "execution_count": null,
   "id": "f0ddc407-1fbc-459d-8891-6fdce5aaa17b",
   "metadata": {},
   "outputs": [],
   "source": [
    "X_CSG, Y_CSG = clean.clean(data_selected[\"CSG\"][\"DEP_DELAY\"].to_list(), data_selected[\"CSG\"][\"ARR_DELAY\"].to_list())\n",
    "model_CSG = rm.model_linear(X_CSG, Y_CSG)"
   ]
  },
  {
   "cell_type": "code",
   "execution_count": null,
   "id": "d2b9e520-b00c-43a6-8577-747527ae52c5",
   "metadata": {},
   "outputs": [],
   "source": [
    "print(\"Score = \", model_CSG.score(X_CSG, Y_CSG))\n",
    "print(\"m =\",model_CSG.estimator_.coef_[0][0])\n",
    "print(\"b=\", model_CSG.estimator_.intercept_[0])"
   ]
  },
  {
   "cell_type": "code",
   "execution_count": null,
   "id": "d2d7d5f9-f214-411a-bd23-9ae9f00eaf72",
   "metadata": {},
   "outputs": [],
   "source": [
    "X_CSG[1][0]"
   ]
  },
  {
   "cell_type": "code",
   "execution_count": null,
   "id": "0215be9b-ae77-40cb-a31d-d7930262a1e3",
   "metadata": {},
   "outputs": [],
   "source": [
    "X_ABY, Y_ABY = clean.clean(data_selected[\"ABY\"][\"DEP_DELAY\"].to_list(), data_selected[\"ABY\"][\"ARR_DELAY\"].to_list())\n",
    "model_ABY = rm.model_linear(X_ABY, Y_ABY)"
   ]
  },
  {
   "cell_type": "code",
   "execution_count": null,
   "id": "bda229c3-0f9c-4fae-9cc2-5f30c5ac658b",
   "metadata": {},
   "outputs": [],
   "source": [
    "model_ABY.predict(X_ABY)[0]"
   ]
  },
  {
   "cell_type": "code",
   "execution_count": null,
   "id": "33f366b2-c114-47ce-870c-41a9deccf324",
   "metadata": {},
   "outputs": [],
   "source": [
    "X_BQK, Y_BQK = clean.clean(data_selected[\"BQK\"][\"DEP_DELAY\"].to_list(), data_selected[\"BQK\"][\"ARR_DELAY\"].to_list())\n",
    "model_BQK = rm.model_linear(X_BQK, Y_BQK)\n",
    "print(\"Score = \", model_BQK.score(X_BQK, Y_BQK))\n",
    "berror_BQK, merror_BQK =  stde.standarderror(X_BQK, Y_BQK, model_BQK)\n",
    "m_BQK = model_BQK.estimator_.coef_[0][0]\n",
    "b_BQK = model_BQK.estimator_.intercept_[0]\n",
    "print(\"m =\",m_BQK,\"+-\",merror_BQK)\n",
    "print(\"b=\",m_BQK ,\"+-\", berror_BQK)"
   ]
  },
  {
   "cell_type": "code",
   "execution_count": null,
   "id": "652eba93-26da-461d-8be3-a688f0b3177d",
   "metadata": {},
   "outputs": [],
   "source": []
  },
  {
   "cell_type": "code",
   "execution_count": null,
   "id": "7509ea1d-516c-4d9f-841b-6ad214b96212",
   "metadata": {},
   "outputs": [],
   "source": [
    "x_line = [np.min(X_BQK), np.max(X_BQK)]\n",
    "y_line = [(m_BQK*x_line[0]) + b_BQK, (m_BQK*x_line[1]) + b_BQK]\n",
    "y_line_min = [((m_BQK-merror_BQK)*x_line[0]) + b_BQK-berror_BQK, ((m_BQK-merror_BQK)*x_line[1]) + b_BQK-merror_BQK]\n",
    "y_line_max = [((m_BQK+merror_BQK)*x_line[0]) + b_BQK+berror_BQK, ((m_BQK+merror_BQK)*x_line[1]) + b_BQK+merror_BQK]"
   ]
  },
  {
   "cell_type": "code",
   "execution_count": null,
   "id": "c61bac3e-af8c-41e7-bf83-7ddd9dce713f",
   "metadata": {},
   "outputs": [],
   "source": [
    "plt.plot(x_line,y_line, label=\"media\")\n",
    "plt.plot(x_line,y_line_min, label=\"mínimo intervalo\")\n",
    "plt.plot(x_line,y_line_max, label=\"máximo intervalo\")\n",
    "plt.scatter(X_BQK,Y_BQK)\n",
    "plt.legend()\n",
    "plt.show()"
   ]
  },
  {
   "cell_type": "code",
   "execution_count": null,
   "id": "97192db7-5cc4-4d06-8bc6-95c89ae9f8e2",
   "metadata": {},
   "outputs": [],
   "source": [
    "i = 1014\n",
    "retraso = X_BQK[i][0]\n",
    "retraso_salida = Y_BQK[i][0]\n",
    "print(\"el valor de retraso de entrada es\", retraso, \"minutos\")\n",
    "retraso_minimo = ((m_BQK-merror_BQK)*retraso) + b_BQK-berror_BQK\n",
    "retraso_maximo = ((m_BQK+merror_BQK)*retraso) + b_BQK+berror_BQK\n",
    "print(\"El intervalo de retraso de salida  está entre \", round(retraso_minimo,1), \"y\", round(retraso_maximo,1) , \"minutos\")\n",
    "print(\"el valor real de salida es\", retraso_salida)"
   ]
  },
  {
   "cell_type": "code",
   "execution_count": null,
   "id": "ac834d1c-3b30-4c46-a51e-71f5329270e7",
   "metadata": {},
   "outputs": [],
   "source": [
    "for i in range(1000,2000):\n",
    "    print(X_BQK[i][0],i)"
   ]
  },
  {
   "cell_type": "code",
   "execution_count": null,
   "id": "028da127-ba01-40c0-a9fb-be6e48cf4b55",
   "metadata": {},
   "outputs": [],
   "source": [
    "X_VLD, Y_VLD = clean.clean(data_selected[\"VLD\"][\"DEP_DELAY\"].to_list(), data_selected[\"VLD\"][\"ARR_DELAY\"].to_list())\n",
    "model_VLD = rm.model_linear(X_VLD, Y_VLD)"
   ]
  },
  {
   "cell_type": "code",
   "execution_count": null,
   "id": "54f172b6-f219-4abf-a481-3d5eee59443a",
   "metadata": {},
   "outputs": [],
   "source": [
    "print(\"Score = \", model_VLD.score(X_VLD, Y_VLD))\n",
    "print(\"m =\",model_VLD.estimator_.coef_[0][0])\n",
    "print(\"b=\", model_VLD.estimator_.intercept_[0], \"+-\", stde.standarderror(X_VLD, Y_VLD))"
   ]
  },
  {
   "cell_type": "code",
   "execution_count": null,
   "id": "952aa282-0e48-4e66-add7-4156ec42de55",
   "metadata": {},
   "outputs": [],
   "source": [
    "X_SAV, Y_SAV = clean.clean(data_selected[\"SAV\"][\"DEP_DELAY\"].to_list(), data_selected[\"SAV\"][\"ARR_DELAY\"].to_list())\n",
    "model_SAV = rm.model_linear(X_SAV, Y_SAV)"
   ]
  },
  {
   "cell_type": "code",
   "execution_count": null,
   "id": "a9bd85d0-4359-4db3-93aa-7af0b9129652",
   "metadata": {},
   "outputs": [],
   "source": [
    "print(\"Score = \", model_SAV.score(X_SAV, Y_SAV))\n",
    "print(\"m =\",model_SAV.estimator_.coef_[0][0])\n",
    "print(\"b =\", model_SAV.estimator_.intercept_[0], \"+-\", stde.standarderror(X_SAV, Y_SAV))"
   ]
  },
  {
   "cell_type": "code",
   "execution_count": null,
   "id": "ed558e63-5fee-4ebf-bc1d-b558327fce55",
   "metadata": {},
   "outputs": [],
   "source": [
    "X_AGS, Y_AGS = clean.clean(data_selected[\"AGS\"][\"DEP_DELAY\"].to_list(), data_selected[\"AGS\"][\"ARR_DELAY\"].to_list())\n",
    "model_AGS = rm.model_linear(X_AGS, Y_AGS)"
   ]
  },
  {
   "cell_type": "code",
   "execution_count": null,
   "id": "627980ac-485a-49e0-ba2b-76a4f361e31e",
   "metadata": {},
   "outputs": [],
   "source": [
    "print(\"Score = \", model_AGS.score(X_AGS, Y_AGS))\n",
    "print(\"m =\",model_AGS.estimator_.coef_[0][0])\n",
    "print(\"b =\", model_AGS.estimator_.intercept_[0], \"+-\",stde.standarderror(X_AGS, Y_AGS))"
   ]
  },
  {
   "cell_type": "code",
   "execution_count": null,
   "id": "2b9bf379-bbd3-414e-b2aa-b6dd50a744bf",
   "metadata": {},
   "outputs": [],
   "source": [
    "pl.plot_delays(*data_selected.values())"
   ]
  },
  {
   "cell_type": "code",
   "execution_count": null,
   "id": "d1c78921-3df0-4bae-9c15-598bba39f85f",
   "metadata": {},
   "outputs": [],
   "source": []
  },
  {
   "cell_type": "markdown",
   "id": "2b1e3980-52f5-4f58-9592-bcfd639a7401",
   "metadata": {},
   "source": [
    "### hora_salida  -> hora_idea + 5\n",
    "### 18:30  -> hora_idea + 3"
   ]
  },
  {
   "cell_type": "markdown",
   "id": "d05e3f8e-a244-448e-8b8f-59d94357a3e2",
   "metadata": {},
   "source": [
    "### hora_salida - hora_idea + 5   7 horas y 5 min\n",
    "### hora_salida  - hora_idea + 3  7 horas y 3 min"
   ]
  },
  {
   "cell_type": "markdown",
   "id": "5829a7d2-a5ef-4be1-b04e-4618b4a065ac",
   "metadata": {},
   "source": [
    "### < hora 1 poco tiempo para planear"
   ]
  },
  {
   "cell_type": "code",
   "execution_count": null,
   "id": "b936ee58-1156-4136-9ec4-285c3d7181b6",
   "metadata": {},
   "outputs": [],
   "source": []
  },
  {
   "cell_type": "code",
   "execution_count": null,
   "id": "7e3a8bb8-036f-424c-af29-b0e66c206da6",
   "metadata": {},
   "outputs": [],
   "source": []
  },
  {
   "cell_type": "code",
   "execution_count": null,
   "id": "00d25aca-d717-4205-bfce-06be32af0f6a",
   "metadata": {},
   "outputs": [],
   "source": []
  }
 ],
 "metadata": {
  "kernelspec": {
   "display_name": "Python 3 (ipykernel)",
   "language": "python",
   "name": "python3"
  },
  "language_info": {
   "codemirror_mode": {
    "name": "ipython",
    "version": 3
   },
   "file_extension": ".py",
   "mimetype": "text/x-python",
   "name": "python",
   "nbconvert_exporter": "python",
   "pygments_lexer": "ipython3",
   "version": "3.8.10"
  }
 },
 "nbformat": 4,
 "nbformat_minor": 5
}
