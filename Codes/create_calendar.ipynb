{
 "cells": [
  {
   "cell_type": "markdown",
   "id": "ea8aecb1-7f77-446e-810e-46aa81160fe7",
   "metadata": {},
   "source": [
    "# Creación de calendario"
   ]
  },
  {
   "cell_type": "markdown",
   "id": "82f65c9d-85ef-4ab5-8a27-5a2a54cc98a0",
   "metadata": {},
   "source": [
    "Este Notebook crea un calendario desde $2018$ hasta $2030$ teniendo en cuenta las siguientes columnas:\n",
    "\n",
    "| **Columnas**     |\n",
    "|------------------|\n",
    "| Fecha            |\n",
    "| Año              |\n",
    "| Nombre del mes   |\n",
    "| Mes en número    |\n",
    "| Día del mes      |\n",
    "| Semana del año   |\n",
    "| Día de la semana |\n",
    "\n"
   ]
  },
  {
   "cell_type": "code",
   "execution_count": 2,
   "id": "e9174947-27a1-4198-aec2-c517f6f4ffae",
   "metadata": {},
   "outputs": [],
   "source": [
    "import pandas as pd"
   ]
  },
  {
   "cell_type": "markdown",
   "id": "10039d16-3137-4308-a921-962e4daebf8d",
   "metadata": {},
   "source": [
    "Creamos la función con dos parámetros de entrada $start$ y $end$"
   ]
  },
  {
   "cell_type": "code",
   "execution_count": 3,
   "id": "98b6efe9-5b3e-45ab-a836-27edfcda4dda",
   "metadata": {},
   "outputs": [],
   "source": [
    "def create_date_table2(start='2000-01-01', end='2050-12-31'):\n",
    "    df = pd.DataFrame({\"Fecha\": pd.date_range(start, end)})\n",
    "    df[\"Año\"] = df.Fecha.dt.year\n",
    "    df[\"Mes_nombre\"] = df.Fecha.dt.month_name()\n",
    "    df[\"Mes\"] = df.Fecha.dt.month\n",
    "    df[\"Dia\"] = df.Fecha.dt.day\n",
    "    df[\"semana_del_año\"] = df.Fecha.dt.isocalendar().week\n",
    "    df[\"dia_de_la_semana\"] = df.Fecha.dt.dayofweek\n",
    "    return df"
   ]
  },
  {
   "cell_type": "markdown",
   "id": "da7fbacb-a125-4b4a-b004-447dbeb9fad4",
   "metadata": {},
   "source": [
    "Usamos la función con las fechas que queremos y lo guardamos en un $.csv$"
   ]
  },
  {
   "cell_type": "code",
   "execution_count": null,
   "id": "81dfa7ad-68d5-4e64-a14d-4b075d82c05d",
   "metadata": {},
   "outputs": [],
   "source": [
    "create_date_table2(start='2018-01-01', end='2030-12-31').to_csv(\"calendario.csv\", index=False)"
   ]
  },
  {
   "cell_type": "markdown",
   "id": "676bceeb-983c-416e-bb56-1f46f1db97ff",
   "metadata": {},
   "source": [
    "También se puede la tabla en el notebook de la siguiente forma."
   ]
  },
  {
   "cell_type": "code",
   "execution_count": 4,
   "id": "ed12f986-099d-4118-ab3a-d5609324cd6a",
   "metadata": {},
   "outputs": [
    {
     "data": {
      "text/html": [
       "<div>\n",
       "<style scoped>\n",
       "    .dataframe tbody tr th:only-of-type {\n",
       "        vertical-align: middle;\n",
       "    }\n",
       "\n",
       "    .dataframe tbody tr th {\n",
       "        vertical-align: top;\n",
       "    }\n",
       "\n",
       "    .dataframe thead th {\n",
       "        text-align: right;\n",
       "    }\n",
       "</style>\n",
       "<table border=\"1\" class=\"dataframe\">\n",
       "  <thead>\n",
       "    <tr style=\"text-align: right;\">\n",
       "      <th></th>\n",
       "      <th>Fecha</th>\n",
       "      <th>Año</th>\n",
       "      <th>Mes_nombre</th>\n",
       "      <th>Mes</th>\n",
       "      <th>Dia</th>\n",
       "      <th>semana_del_año</th>\n",
       "      <th>dia_de_la_semana</th>\n",
       "    </tr>\n",
       "  </thead>\n",
       "  <tbody>\n",
       "    <tr>\n",
       "      <th>0</th>\n",
       "      <td>2018-01-01</td>\n",
       "      <td>2018</td>\n",
       "      <td>January</td>\n",
       "      <td>1</td>\n",
       "      <td>1</td>\n",
       "      <td>1</td>\n",
       "      <td>0</td>\n",
       "    </tr>\n",
       "    <tr>\n",
       "      <th>1</th>\n",
       "      <td>2018-01-02</td>\n",
       "      <td>2018</td>\n",
       "      <td>January</td>\n",
       "      <td>1</td>\n",
       "      <td>2</td>\n",
       "      <td>1</td>\n",
       "      <td>1</td>\n",
       "    </tr>\n",
       "    <tr>\n",
       "      <th>2</th>\n",
       "      <td>2018-01-03</td>\n",
       "      <td>2018</td>\n",
       "      <td>January</td>\n",
       "      <td>1</td>\n",
       "      <td>3</td>\n",
       "      <td>1</td>\n",
       "      <td>2</td>\n",
       "    </tr>\n",
       "    <tr>\n",
       "      <th>3</th>\n",
       "      <td>2018-01-04</td>\n",
       "      <td>2018</td>\n",
       "      <td>January</td>\n",
       "      <td>1</td>\n",
       "      <td>4</td>\n",
       "      <td>1</td>\n",
       "      <td>3</td>\n",
       "    </tr>\n",
       "    <tr>\n",
       "      <th>4</th>\n",
       "      <td>2018-01-05</td>\n",
       "      <td>2018</td>\n",
       "      <td>January</td>\n",
       "      <td>1</td>\n",
       "      <td>5</td>\n",
       "      <td>1</td>\n",
       "      <td>4</td>\n",
       "    </tr>\n",
       "    <tr>\n",
       "      <th>...</th>\n",
       "      <td>...</td>\n",
       "      <td>...</td>\n",
       "      <td>...</td>\n",
       "      <td>...</td>\n",
       "      <td>...</td>\n",
       "      <td>...</td>\n",
       "      <td>...</td>\n",
       "    </tr>\n",
       "    <tr>\n",
       "      <th>4743</th>\n",
       "      <td>2030-12-27</td>\n",
       "      <td>2030</td>\n",
       "      <td>December</td>\n",
       "      <td>12</td>\n",
       "      <td>27</td>\n",
       "      <td>52</td>\n",
       "      <td>4</td>\n",
       "    </tr>\n",
       "    <tr>\n",
       "      <th>4744</th>\n",
       "      <td>2030-12-28</td>\n",
       "      <td>2030</td>\n",
       "      <td>December</td>\n",
       "      <td>12</td>\n",
       "      <td>28</td>\n",
       "      <td>52</td>\n",
       "      <td>5</td>\n",
       "    </tr>\n",
       "    <tr>\n",
       "      <th>4745</th>\n",
       "      <td>2030-12-29</td>\n",
       "      <td>2030</td>\n",
       "      <td>December</td>\n",
       "      <td>12</td>\n",
       "      <td>29</td>\n",
       "      <td>52</td>\n",
       "      <td>6</td>\n",
       "    </tr>\n",
       "    <tr>\n",
       "      <th>4746</th>\n",
       "      <td>2030-12-30</td>\n",
       "      <td>2030</td>\n",
       "      <td>December</td>\n",
       "      <td>12</td>\n",
       "      <td>30</td>\n",
       "      <td>1</td>\n",
       "      <td>0</td>\n",
       "    </tr>\n",
       "    <tr>\n",
       "      <th>4747</th>\n",
       "      <td>2030-12-31</td>\n",
       "      <td>2030</td>\n",
       "      <td>December</td>\n",
       "      <td>12</td>\n",
       "      <td>31</td>\n",
       "      <td>1</td>\n",
       "      <td>1</td>\n",
       "    </tr>\n",
       "  </tbody>\n",
       "</table>\n",
       "<p>4748 rows × 7 columns</p>\n",
       "</div>"
      ],
      "text/plain": [
       "          Fecha   Año Mes_nombre  Mes  Dia  semana_del_año  dia_de_la_semana\n",
       "0    2018-01-01  2018    January    1    1               1                 0\n",
       "1    2018-01-02  2018    January    1    2               1                 1\n",
       "2    2018-01-03  2018    January    1    3               1                 2\n",
       "3    2018-01-04  2018    January    1    4               1                 3\n",
       "4    2018-01-05  2018    January    1    5               1                 4\n",
       "...         ...   ...        ...  ...  ...             ...               ...\n",
       "4743 2030-12-27  2030   December   12   27              52                 4\n",
       "4744 2030-12-28  2030   December   12   28              52                 5\n",
       "4745 2030-12-29  2030   December   12   29              52                 6\n",
       "4746 2030-12-30  2030   December   12   30               1                 0\n",
       "4747 2030-12-31  2030   December   12   31               1                 1\n",
       "\n",
       "[4748 rows x 7 columns]"
      ]
     },
     "execution_count": 4,
     "metadata": {},
     "output_type": "execute_result"
    }
   ],
   "source": [
    "create_date_table2(start='2018-01-01', end='2030-12-31')"
   ]
  }
 ],
 "metadata": {
  "kernelspec": {
   "display_name": "Python 3 (ipykernel)",
   "language": "python",
   "name": "python3"
  },
  "language_info": {
   "codemirror_mode": {
    "name": "ipython",
    "version": 3
   },
   "file_extension": ".py",
   "mimetype": "text/x-python",
   "name": "python",
   "nbconvert_exporter": "python",
   "pygments_lexer": "ipython3",
   "version": "3.8.10"
  }
 },
 "nbformat": 4,
 "nbformat_minor": 5
}
